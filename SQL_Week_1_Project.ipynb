{
  "nbformat": 4,
  "nbformat_minor": 0,
  "metadata": {
    "colab": {
      "provenance": []
    },
    "kernelspec": {
      "name": "python3",
      "display_name": "Python 3"
    },
    "language_info": {
      "name": "python"
    }
  },
  "cells": [
    {
      "cell_type": "code",
      "execution_count": null,
      "metadata": {
        "id": "BCl2YCLCn-F8"
      },
      "outputs": [],
      "source": [
        "%load_ext sql"
      ]
    },
    {
      "cell_type": "markdown",
      "source": [
        "**Missing table-Jurisdiction Hierachy**"
      ],
      "metadata": {
        "id": "5iBhX_EJUjW6"
      }
    },
    {
      "cell_type": "code",
      "source": [
        "%%sql CREATE TABLE jurisdiction_hierachy (\n",
        "    partner_id INT PRIMARY KEY,\n",
        "    partner VARCHAR(20),\n",
        "    village VARCHAR(15),\n",
        "    beneficiaries VARCHAR(20),\n",
        "    beneficiary_type VARCHAR(20)\n",
        ")"
      ],
      "metadata": {
        "id": "3NK26Mk3SxcC"
      },
      "execution_count": null,
      "outputs": []
    },
    {
      "cell_type": "markdown",
      "source": [
        "**District_summary table**"
      ],
      "metadata": {
        "id": "eBgNNPalUzKi"
      }
    },
    {
      "cell_type": "code",
      "source": [
        "%%sql CREATE TABLE district_summary (\n",
        "    district_name VARCHAR(20),\n",
        "    region_name VARCHAR(20),\n",
        "    no_of_individual_benefeciaries INT,\n",
        "    no_of_individual_benefeciaries_per_total_district_population INT\n",
        "\n",
        "\n",
        ")"
      ],
      "metadata": {
        "id": "skmtMY70U67Z"
      },
      "execution_count": null,
      "outputs": []
    },
    {
      "cell_type": "markdown",
      "source": [
        "**Partner_summary table**"
      ],
      "metadata": {
        "id": "BSchN6yQXkTZ"
      }
    },
    {
      "cell_type": "code",
      "source": [
        "%%sql CREATE TABLE partner_summary (\n",
        "    partner_name VARCHAR(20),\n",
        "    no_of_villages_reached_by_partner INT,\n",
        "    no_of_districts_reached_by partner INT\n",
        "\n",
        ")"
      ],
      "metadata": {
        "id": "Ro4P0bDTXeoQ"
      },
      "execution_count": null,
      "outputs": []
    }
  ]
}